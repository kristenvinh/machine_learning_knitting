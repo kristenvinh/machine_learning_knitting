{
 "cells": [
  {
   "cell_type": "code",
   "execution_count": 1,
   "id": "d3447218",
   "metadata": {},
   "outputs": [
    {
     "name": "stdout",
     "output_type": "stream",
     "text": [
      "Intel MKL WARNING: Support of Intel(R) Streaming SIMD Extensions 4.2 (Intel(R) SSE4.2) enabled only processors has been deprecated. Intel oneAPI Math Kernel Library 2025.0 will require Intel(R) Advanced Vector Extensions (Intel(R) AVX) instructions.\n",
      "Intel MKL WARNING: Support of Intel(R) Streaming SIMD Extensions 4.2 (Intel(R) SSE4.2) enabled only processors has been deprecated. Intel oneAPI Math Kernel Library 2025.0 will require Intel(R) Advanced Vector Extensions (Intel(R) AVX) instructions.\n"
     ]
    }
   ],
   "source": [
    "import os\n",
    "import sys\n",
    "import pandas as pd\n",
    "import requests\n",
    "from dotenv import load_dotenv\n",
    "import time\n",
    "\n",
    "# Load environment variables from the .env file\n",
    "load_dotenv()\n",
    "\n",
    "BASE_URL = \"https://api.ravelry.com\"\n",
    "\n",
    "# The os.getenv() calls will now find the variables loaded from your .env file\n",
    "RAVELRY_ACCESS_KEY = os.getenv('RAVELRY_ACCESS_KEY')\n",
    "RAVELRY_PERSONAL_KEY = os.getenv('RAVELRY_PERSONAL_KEY')"
   ]
  },
  {
   "cell_type": "code",
   "execution_count": 2,
   "id": "40d1bb58",
   "metadata": {},
   "outputs": [
    {
     "name": "stdout",
     "output_type": "stream",
     "text": [
      "Access Key Loaded: read-d4086974ad193fe02828dd97c21b9560\n",
      "Personal Key Loaded: Eq5JjrVDcMu4Ji01Y2aQ9bMh4gtUpr1JoSYsG7Ri\n"
     ]
    }
   ],
   "source": [
    "# --- ADD THIS DEBUGGING CODE ---\n",
    "print(f\"Access Key Loaded: {RAVELRY_ACCESS_KEY}\")\n",
    "print(f\"Personal Key Loaded: {RAVELRY_PERSONAL_KEY}\")"
   ]
  },
  {
   "cell_type": "markdown",
   "id": "2a94c762",
   "metadata": {},
   "source": [
    "Writing a function to test grabbing different attributes that may be useful in analysis:"
   ]
  },
  {
   "cell_type": "code",
   "execution_count": 3,
   "id": "bfd86a1a",
   "metadata": {},
   "outputs": [],
   "source": [
    "\n",
    "def search_patterns(craft, pc, max_pages=20, page=1):\n",
    "    \"\"\"\n",
    "    Searches for patterns on Ravelry with a specific craft and category,\n",
    "    handling pagination to retrieve a large number of results.\n",
    "\n",
    "    Args:\n",
    "        craft (str): The craft to search for (e.g., \"knitting\").\n",
    "        pc (str): The pattern category slug (e.g., \"sweater|cardigan\").\n",
    "        max_pages (int): The maximum number of pages to fetch. \n",
    "                         Set to None to fetch all pages.\n",
    "    \n",
    "    Returns:\n",
    "        pd.DataFrame: A DataFrame of patterns that match the criteria.\n",
    "    \"\"\"\n",
    "    endpoint = f\"{BASE_URL}/patterns/search.json\"\n",
    "    all_patterns = []\n",
    "    page = page\n",
    "    \n",
    "    # --- FIXED ---\n",
    "    # Use the correct variable names 'craft' and 'pc'\n",
    "    print(f\"Starting pattern search for craft: '{craft}', category: '{pc}'\")\n",
    "\n",
    "    while True:\n",
    "        params = {\n",
    "            \"craft\": craft,\n",
    "            \"pc\": pc,\n",
    "            \"page_size\": 100,\n",
    "            \"page\": page\n",
    "        }\n",
    "\n",
    "        try:\n",
    "            print(f\"Fetching page {page}...\")\n",
    "            # Make sure you have defined your keys and base URL\n",
    "            response = requests.get(endpoint, auth=(RAVELRY_ACCESS_KEY, RAVELRY_PERSONAL_KEY), params=params)\n",
    "            response.raise_for_status()\n",
    "\n",
    "            data = response.json()\n",
    "            patterns_on_page = data.get('patterns', [])\n",
    "            \n",
    "            if not patterns_on_page:\n",
    "                print(\"No more patterns found. Ending search.\")\n",
    "                break\n",
    "\n",
    "            all_patterns.extend(patterns_on_page)\n",
    "            \n",
    "            paginator = data.get('paginator', {})\n",
    "            if paginator.get('last_page') == page:\n",
    "                print(\"Reached the last page of results.\")\n",
    "                break\n",
    "\n",
    "            if max_pages is not None and page >= max_pages:\n",
    "                print(f\"Reached max_pages limit of {max_pages}.\")\n",
    "                break\n",
    "                \n",
    "            page += 1\n",
    "            time.sleep(1)\n",
    "\n",
    "        except requests.exceptions.RequestException as e:\n",
    "            print(f\"An error occurred: {e}\")\n",
    "            return None\n",
    "    \n",
    "    patterns_data = []\n",
    "    for pattern in all_patterns:\n",
    "        patterns_data.append({\n",
    "            'Name': pattern.get('name'),\n",
    "            'Designer': pattern.get('designer', {}).get('name'),\n",
    "            'ID': pattern.get('id'),\n",
    "            'URL': f\"https://www.ravelry.com/patterns/library/{pattern.get('permalink')}\",\n",
    "            'Free': pattern.get('free'),\n",
    "            'Photo': pattern.get('first_photo', {}).get('medium2_url'),\n",
    "        })\n",
    "\n",
    "    print(f\"Total patterns collected: {len(patterns_data)}\")\n",
    "    return pd.DataFrame(patterns_data)"
   ]
  },
  {
   "cell_type": "code",
   "execution_count": 4,
   "id": "e6a08974",
   "metadata": {},
   "outputs": [],
   "source": [
    "# cardigans = search_patterns(\"knitting\", \"cardigan\", 200)\n",
    "# pullovers = search_patterns(\"knitting\", \"pullover\", 200)\n",
    "\n",
    "# sweaters = pd.concat([cardigans, pullovers]).drop_duplicates().reset_index(drop=True)\n",
    "# sweaters = sweaters.to_csv(\"sweaters_v3.csv\", index=False)"
   ]
  },
  {
   "cell_type": "code",
   "execution_count": 13,
   "id": "5739fa51",
   "metadata": {},
   "outputs": [
    {
     "name": "stdout",
     "output_type": "stream",
     "text": [
      "Starting pattern search for craft: 'knitting', category: 'cardigan'\n",
      "Fetching page 21...\n",
      "Fetching page 22...\n",
      "Fetching page 23...\n",
      "Fetching page 24...\n",
      "Fetching page 25...\n",
      "Fetching page 26...\n",
      "Fetching page 27...\n",
      "Fetching page 28...\n",
      "Fetching page 29...\n",
      "Fetching page 30...\n",
      "Fetching page 31...\n",
      "Fetching page 32...\n",
      "Fetching page 33...\n",
      "Fetching page 34...\n",
      "Fetching page 35...\n",
      "Fetching page 36...\n",
      "Fetching page 37...\n",
      "Fetching page 38...\n",
      "Fetching page 39...\n",
      "Fetching page 40...\n",
      "Fetching page 41...\n",
      "Reached max_pages limit of 41.\n",
      "Total patterns collected: 2100\n"
     ]
    }
   ],
   "source": [
    "#Pulling additional cardigans to reach 15000 patterns\n",
    "more_cardigans = search_patterns(\"knitting\", \"cardigan\", 41, page=21)\n",
    "more_cardigans = more_cardigans.to_csv(\"more_cardigans.csv\", index=False)"
   ]
  },
  {
   "cell_type": "code",
   "execution_count": 6,
   "id": "30c1cbb9",
   "metadata": {},
   "outputs": [],
   "source": [
    "# Older run to pull 2,000 sampleas of each category\n",
    "# cardigans = search_patterns(\"knitting\", \"cardigan\")\n",
    "# pullovers = search_patterns(\"knitting\", \"pullover\")\n",
    "\n",
    "# sweaters = pd.concat([cardigans, pullovers]).drop_duplicates().reset_index(drop=True)\n",
    "# sweaters = sweaters.to_csv(\"sweaters_v2.csv\", index=False)\n"
   ]
  },
  {
   "cell_type": "code",
   "execution_count": 7,
   "id": "9b5bb052",
   "metadata": {},
   "outputs": [],
   "source": [
    "# Old run that only searched for \"sweater\" -- pulled in mostly pullover sweaters\n",
    "#sweaters = search_patterns(\"sweater\")\n",
    "#sweaters.to_csv(\"sweaters.csv\", index=False)"
   ]
  }
 ],
 "metadata": {
  "kernelspec": {
   "display_name": "base",
   "language": "python",
   "name": "python3"
  },
  "language_info": {
   "codemirror_mode": {
    "name": "ipython",
    "version": 3
   },
   "file_extension": ".py",
   "mimetype": "text/x-python",
   "name": "python",
   "nbconvert_exporter": "python",
   "pygments_lexer": "ipython3",
   "version": "3.10.11"
  }
 },
 "nbformat": 4,
 "nbformat_minor": 5
}
